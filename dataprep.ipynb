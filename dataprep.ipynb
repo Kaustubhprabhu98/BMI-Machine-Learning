{
 "cells": [
  {
   "cell_type": "code",
   "execution_count": 1,
   "id": "f2e9ebd1",
   "metadata": {},
   "outputs": [
    {
     "name": "stderr",
     "output_type": "stream",
     "text": [
      "Matplotlib is building the font cache; this may take a moment.\n"
     ]
    },
    {
     "name": "stdout",
     "output_type": "stream",
     "text": [
      "Success\n"
     ]
    }
   ],
   "source": [
    "# import libraries\n",
    "import boto3, re, sys, math, json, os, sagemaker, urllib.request\n",
    "from sagemaker import get_execution_role\n",
    "import numpy as np\n",
    "import pandas as pd\n",
    "import matplotlib.pyplot as plt\n",
    "from IPython.display import Image\n",
    "from IPython.display import display\n",
    "from time import gmtime, strftime\n",
    "from sagemaker.predictor import csv_serializer\n",
    "\n",
    "# Define IAM role\n",
    "role = get_execution_role()\n",
    "my_region = boto3.session.Session().region_name # set the region of the instance\n",
    "\n",
    "\n",
    "print(\"Success\")"
   ]
  },
  {
   "cell_type": "code",
   "execution_count": 34,
   "id": "c58fa7a9",
   "metadata": {},
   "outputs": [],
   "source": [
    "xgboost_container = sagemaker.image_uris.retrieve(\"xgboost\", my_region, \"latest\")"
   ]
  },
  {
   "cell_type": "code",
   "execution_count": 4,
   "id": "52158b07",
   "metadata": {},
   "outputs": [
    {
     "name": "stdout",
     "output_type": "stream",
     "text": [
      "S3 bucket created successfully\n"
     ]
    }
   ],
   "source": [
    "bucket_name = 'insurancedatakmp' \n",
    "s3 = boto3.resource('s3')\n",
    "try:\n",
    "    if  my_region == 'us-east-1':\n",
    "      s3.create_bucket(Bucket=bucket_name)\n",
    "    else: \n",
    "      s3.create_bucket(Bucket=bucket_name, CreateBucketConfiguration={ 'LocationConstraint': my_region })\n",
    "    print('S3 bucket created successfully')\n",
    "except Exception as e:\n",
    "    print('S3 error: ',e)"
   ]
  },
  {
   "cell_type": "code",
   "execution_count": 6,
   "id": "49556f41",
   "metadata": {},
   "outputs": [
    {
     "name": "stdout",
     "output_type": "stream",
     "text": [
      "Success: Data loaded into dataframe.\n"
     ]
    }
   ],
   "source": [
    "try:\n",
    "  raw_data = pd.read_csv('./Dummy-Data.csv',index_col=0)\n",
    "  print('Success: Data loaded into dataframe.')\n",
    "except Exception as e:\n",
    "    print('Data load error: ',e)\n",
    "    "
   ]
  },
  {
   "cell_type": "code",
   "execution_count": 12,
   "id": "ff86561f",
   "metadata": {},
   "outputs": [
    {
     "data": {
      "text/html": [
       "<div>\n",
       "<style scoped>\n",
       "    .dataframe tbody tr th:only-of-type {\n",
       "        vertical-align: middle;\n",
       "    }\n",
       "\n",
       "    .dataframe tbody tr th {\n",
       "        vertical-align: top;\n",
       "    }\n",
       "\n",
       "    .dataframe thead th {\n",
       "        text-align: right;\n",
       "    }\n",
       "</style>\n",
       "<table border=\"1\" class=\"dataframe\">\n",
       "  <thead>\n",
       "    <tr style=\"text-align: right;\">\n",
       "      <th></th>\n",
       "      <th>Ins_Age</th>\n",
       "      <th>Ins_Gender</th>\n",
       "      <th>Ht</th>\n",
       "      <th>Wt</th>\n",
       "      <th>IssueDate</th>\n",
       "      <th>height</th>\n",
       "      <th>weight</th>\n",
       "      <th>bmi</th>\n",
       "      <th>quote</th>\n",
       "    </tr>\n",
       "    <tr>\n",
       "      <th>AppID</th>\n",
       "      <th></th>\n",
       "      <th></th>\n",
       "      <th></th>\n",
       "      <th></th>\n",
       "      <th></th>\n",
       "      <th></th>\n",
       "      <th></th>\n",
       "      <th></th>\n",
       "      <th></th>\n",
       "    </tr>\n",
       "  </thead>\n",
       "  <tbody>\n",
       "    <tr>\n",
       "      <th>56372</th>\n",
       "      <td>31</td>\n",
       "      <td>Male</td>\n",
       "      <td>510</td>\n",
       "      <td>185</td>\n",
       "      <td>NaN</td>\n",
       "      <td>1.7780</td>\n",
       "      <td>84.090909</td>\n",
       "      <td>26.600239</td>\n",
       "      <td>500.0</td>\n",
       "    </tr>\n",
       "    <tr>\n",
       "      <th>34565</th>\n",
       "      <td>35</td>\n",
       "      <td>Male</td>\n",
       "      <td>510</td>\n",
       "      <td>205</td>\n",
       "      <td>NaN</td>\n",
       "      <td>1.7780</td>\n",
       "      <td>93.181818</td>\n",
       "      <td>29.475940</td>\n",
       "      <td>500.0</td>\n",
       "    </tr>\n",
       "    <tr>\n",
       "      <th>57732</th>\n",
       "      <td>45</td>\n",
       "      <td>Female</td>\n",
       "      <td>510</td>\n",
       "      <td>125</td>\n",
       "      <td>NaN</td>\n",
       "      <td>1.7780</td>\n",
       "      <td>56.818182</td>\n",
       "      <td>17.973134</td>\n",
       "      <td>900.0</td>\n",
       "    </tr>\n",
       "    <tr>\n",
       "      <th>87324</th>\n",
       "      <td>38</td>\n",
       "      <td>Male</td>\n",
       "      <td>503</td>\n",
       "      <td>175</td>\n",
       "      <td>NaN</td>\n",
       "      <td>1.6002</td>\n",
       "      <td>79.545455</td>\n",
       "      <td>31.064677</td>\n",
       "      <td>500.0</td>\n",
       "    </tr>\n",
       "    <tr>\n",
       "      <th>12323</th>\n",
       "      <td>39</td>\n",
       "      <td>Female</td>\n",
       "      <td>600</td>\n",
       "      <td>252</td>\n",
       "      <td>NaN</td>\n",
       "      <td>1.8288</td>\n",
       "      <td>114.545455</td>\n",
       "      <td>34.248806</td>\n",
       "      <td>450.0</td>\n",
       "    </tr>\n",
       "  </tbody>\n",
       "</table>\n",
       "</div>"
      ],
      "text/plain": [
       "       Ins_Age Ins_Gender   Ht   Wt  IssueDate  height      weight        bmi  \\\n",
       "AppID                                                                           \n",
       "56372       31       Male  510  185        NaN  1.7780   84.090909  26.600239   \n",
       "34565       35       Male  510  205        NaN  1.7780   93.181818  29.475940   \n",
       "57732       45     Female  510  125        NaN  1.7780   56.818182  17.973134   \n",
       "87324       38       Male  503  175        NaN  1.6002   79.545455  31.064677   \n",
       "12323       39     Female  600  252        NaN  1.8288  114.545455  34.248806   \n",
       "\n",
       "       quote  \n",
       "AppID         \n",
       "56372  500.0  \n",
       "34565  500.0  \n",
       "57732  900.0  \n",
       "87324  500.0  \n",
       "12323  450.0  "
      ]
     },
     "execution_count": 12,
     "metadata": {},
     "output_type": "execute_result"
    }
   ],
   "source": [
    "#preprocess raw data\n",
    "#convert height into meters   \n",
    "raw_data[\"height\"] = (((raw_data[\"Ht\"]%100) + ((raw_data[\"Ht\"]//100)*12))*0.0254)\n",
    "raw_data[\"weight\"] = (raw_data[\"Wt\"]/2.2)\n",
    "raw_data[\"bmi\"] = raw_data[\"weight\"]/(raw_data[\"height\"]**2)\n",
    "\n",
    "def insurance_quote(data):\n",
    "    if  (data[\"Ins_Age\"]>17 and data[\"Ins_Age\"]<40) and (data[\"bmi\"]<17.49 or data[\"bmi\"]>38.5 ):\n",
    "        quote = 750\n",
    "    elif (data[\"Ins_Age\"]>39 and data[\"Ins_Age\"]<60) and (data[\"bmi\"]<18.49 or data[\"bmi\"]>38.5 ):\n",
    "        quote = 1000\n",
    "    elif (data[\"Ins_Age\"]>60) and (data[\"bmi\"]<18.49 or data[\"bmi\"]>45.5 ):\n",
    "        quote = 2000\n",
    "    else:\n",
    "        quote = 500\n",
    "    if (data[\"Ins_Gender\"] == \"Female\"):\n",
    "        quote = 0.9*quote\n",
    "    return quote \n",
    "    \n",
    "\n",
    "\n",
    "raw_data[\"quote\"] = raw_data.apply(insurance_quote, axis=1)\n",
    "\n",
    "raw_data.head(5)"
   ]
  },
  {
   "cell_type": "code",
   "execution_count": 23,
   "id": "2d5dc07d",
   "metadata": {},
   "outputs": [
    {
     "data": {
      "text/html": [
       "<div>\n",
       "<style scoped>\n",
       "    .dataframe tbody tr th:only-of-type {\n",
       "        vertical-align: middle;\n",
       "    }\n",
       "\n",
       "    .dataframe tbody tr th {\n",
       "        vertical-align: top;\n",
       "    }\n",
       "\n",
       "    .dataframe thead th {\n",
       "        text-align: right;\n",
       "    }\n",
       "</style>\n",
       "<table border=\"1\" class=\"dataframe\">\n",
       "  <thead>\n",
       "    <tr style=\"text-align: right;\">\n",
       "      <th></th>\n",
       "      <th>Ins_Age</th>\n",
       "      <th>Ins_Gender</th>\n",
       "      <th>height</th>\n",
       "      <th>weight</th>\n",
       "      <th>bmi</th>\n",
       "      <th>quote</th>\n",
       "    </tr>\n",
       "    <tr>\n",
       "      <th>AppID</th>\n",
       "      <th></th>\n",
       "      <th></th>\n",
       "      <th></th>\n",
       "      <th></th>\n",
       "      <th></th>\n",
       "      <th></th>\n",
       "    </tr>\n",
       "  </thead>\n",
       "  <tbody>\n",
       "    <tr>\n",
       "      <th>56372</th>\n",
       "      <td>31</td>\n",
       "      <td>0</td>\n",
       "      <td>1.778</td>\n",
       "      <td>84.090909</td>\n",
       "      <td>26.600239</td>\n",
       "      <td>500.0</td>\n",
       "    </tr>\n",
       "    <tr>\n",
       "      <th>34565</th>\n",
       "      <td>35</td>\n",
       "      <td>0</td>\n",
       "      <td>1.778</td>\n",
       "      <td>93.181818</td>\n",
       "      <td>29.475940</td>\n",
       "      <td>500.0</td>\n",
       "    </tr>\n",
       "  </tbody>\n",
       "</table>\n",
       "</div>"
      ],
      "text/plain": [
       "       Ins_Age  Ins_Gender  height     weight        bmi  quote\n",
       "AppID                                                          \n",
       "56372       31           0   1.778  84.090909  26.600239  500.0\n",
       "34565       35           0   1.778  93.181818  29.475940  500.0"
      ]
     },
     "execution_count": 23,
     "metadata": {},
     "output_type": "execute_result"
    }
   ],
   "source": [
    "#converting gender into number for training\n",
    "raw_data['Ins_Gender'].replace({'Female':1,'Male':0},inplace=True)\n",
    "#dropping unwanted collumns Ht Wt IssueDate\n",
    "preprocessed_traintest_data = raw_data.drop(columns=['Ht', 'Wt', 'IssueDate'])\n",
    "preprocessed_traintest_data.head(2)"
   ]
  },
  {
   "cell_type": "markdown",
   "id": "db4b2f64",
   "metadata": {},
   "source": [
    "Now training a XGB model for predicting BMI from age gender and quote"
   ]
  },
  {
   "cell_type": "code",
   "execution_count": 20,
   "id": "7154b38f",
   "metadata": {},
   "outputs": [
    {
     "data": {
      "text/html": [
       "<div>\n",
       "<style scoped>\n",
       "    .dataframe tbody tr th:only-of-type {\n",
       "        vertical-align: middle;\n",
       "    }\n",
       "\n",
       "    .dataframe tbody tr th {\n",
       "        vertical-align: top;\n",
       "    }\n",
       "\n",
       "    .dataframe thead th {\n",
       "        text-align: right;\n",
       "    }\n",
       "</style>\n",
       "<table border=\"1\" class=\"dataframe\">\n",
       "  <thead>\n",
       "    <tr style=\"text-align: right;\">\n",
       "      <th></th>\n",
       "      <th>Ins_Age</th>\n",
       "      <th>Ins_Gender</th>\n",
       "      <th>bmi</th>\n",
       "      <th>quote</th>\n",
       "    </tr>\n",
       "    <tr>\n",
       "      <th>AppID</th>\n",
       "      <th></th>\n",
       "      <th></th>\n",
       "      <th></th>\n",
       "      <th></th>\n",
       "    </tr>\n",
       "  </thead>\n",
       "  <tbody>\n",
       "    <tr>\n",
       "      <th>56372</th>\n",
       "      <td>31</td>\n",
       "      <td>0</td>\n",
       "      <td>26.600239</td>\n",
       "      <td>500.0</td>\n",
       "    </tr>\n",
       "  </tbody>\n",
       "</table>\n",
       "</div>"
      ],
      "text/plain": [
       "       Ins_Age  Ins_Gender        bmi  quote\n",
       "AppID                                       \n",
       "56372       31           0  26.600239  500.0"
      ]
     },
     "execution_count": 20,
     "metadata": {},
     "output_type": "execute_result"
    }
   ],
   "source": [
    "#dropping height and weight\n",
    "quote_traintest = preprocessed_traintest_data.drop(preprocessed_traintest_data.columns[[2, 3]], axis=1)\n",
    "quote_traintest.head(1)"
   ]
  },
  {
   "cell_type": "code",
   "execution_count": 41,
   "id": "6ea2c362",
   "metadata": {},
   "outputs": [
    {
     "name": "stdout",
     "output_type": "stream",
     "text": [
      "(70, 4) (30, 4)\n"
     ]
    },
    {
     "data": {
      "text/plain": [
       "<bound method NDFrame.head of        Ins_Age  Ins_Gender        bmi  quote\n",
       "AppID                                       \n",
       "45764       31           1  26.441992  450.0\n",
       "24435       33           0  31.224404  500.0\n",
       "64574       25           0  21.153593  500.0\n",
       "34523       32           0  16.526245  750.0\n",
       "99946       30           0  21.331436  500.0\n",
       "...        ...         ...        ...    ...\n",
       "99452       46           0  23.797792  500.0\n",
       "99918       19           0  20.964497  500.0\n",
       "53242       28           1  25.140621  450.0\n",
       "12323       39           1  34.248806  450.0\n",
       "99946       40           0  31.952239  500.0\n",
       "\n",
       "[70 rows x 4 columns]>"
      ]
     },
     "execution_count": 41,
     "metadata": {},
     "output_type": "execute_result"
    }
   ],
   "source": [
    "train_data, test_data = np.split(quote_traintest.sample(frac=1, random_state=1729), [int(0.7 * len(quote_traintest))])\n",
    "print(train_data.shape, test_data.shape)\n",
    "train_data.head"
   ]
  },
  {
   "cell_type": "code",
   "execution_count": 42,
   "id": "69c3406a",
   "metadata": {},
   "outputs": [
    {
     "name": "stderr",
     "output_type": "stream",
     "text": [
      "INFO:botocore.credentials:Found credentials from IAM Role: BaseNotebookInstanceEc2InstanceRole\n"
     ]
    }
   ],
   "source": [
    "pd.concat([train_data['quote'], train_data.drop(['quote'], axis=1)], axis=1).to_csv('train.csv',sep=',', index=False, header=False)\n",
    "boto3.Session().resource('s3').Bucket(bucket_name).Object('./train.csv').upload_file('train.csv')\n",
    "s3_input_train = sagemaker.inputs.TrainingInput(s3_data='s3://{}/./'.format(bucket_name), content_type='csv')"
   ]
  },
  {
   "cell_type": "code",
   "execution_count": 43,
   "id": "e11feca3",
   "metadata": {},
   "outputs": [],
   "source": [
    "sess = sagemaker.Session()\n",
    "xgb = sagemaker.estimator.Estimator(xgboost_container,role, instance_count=1, instance_type='ml.m4.xlarge',output_path='s3://{}/./'.format(bucket_name),sagemaker_session=sess)\n",
    "xgb.set_hyperparameters(max_depth=5,eta=0.2,gamma=4,min_child_weight=6,subsample=0.8,silent=0,objective='multi:softmax',num_class=8, num_round=100)"
   ]
  },
  {
   "cell_type": "code",
   "execution_count": 44,
   "id": "4ba9851f",
   "metadata": {},
   "outputs": [
    {
     "name": "stderr",
     "output_type": "stream",
     "text": [
      "INFO:sagemaker:Creating training-job with name: xgboost-2023-06-01-11-56-15-151\n"
     ]
    },
    {
     "name": "stdout",
     "output_type": "stream",
     "text": [
      "2023-06-01 11:56:15 Starting - Starting the training job...\n",
      "2023-06-01 11:56:40 Starting - Preparing the instances for training......\n",
      "2023-06-01 11:57:43 Downloading - Downloading input data......\n",
      "2023-06-01 11:58:28 Training - Downloading the training image...\n",
      "2023-06-01 11:59:16 Uploading - Uploading generated training model\n",
      "2023-06-01 11:59:16 Failed - Training job failed\n",
      "\u001b[34mArguments: train\u001b[0m\n",
      "\u001b[34m[2023-06-01:11:59:02:INFO] Running standalone xgboost training.\u001b[0m\n",
      "\u001b[34m[2023-06-01:11:59:02:INFO] Path /opt/ml/input/data/validation does not exist!\u001b[0m\n",
      "\u001b[34m[2023-06-01:11:59:02:INFO] File size need to be processed in the node: 0.75mb. Available memory size in the node: 8579.62mb\u001b[0m\n",
      "\u001b[34m[2023-06-01:11:59:02:ERROR] Customer Error: Could not determine delimiter on line :\u001b[0m\n",
      "\u001b[34mCould not determine delimiter\u001b[0m\n",
      "\u001b[34mTraceback (most recent call last):\n",
      "  File \"/opt/amazon/lib/python3.7/site-packages/sage_xgboost/train_helper.py\", line 134, in get_csv_dmatrix\n",
      "    delimiter = csv.Sniffer().sniff(sample_text).delimiter\n",
      "  File \"/opt/amazon/python3.7/lib/python3.7/csv.py\", line 188, in sniff\n",
      "    raise Error(\"Could not determine delimiter\")\u001b[0m\n",
      "\u001b[34m_csv.Error: Could not determine delimiter\u001b[0m\n",
      "\u001b[34mDuring handling of the above exception, another exception occurred:\u001b[0m\n",
      "\u001b[34mTraceback (most recent call last):\n",
      "  File \"/opt/amazon/lib/python3.7/site-packages/sage_xgboost/train.py\", line 41, in main\n",
      "    standalone_train(resource_config, train_config, data_config)\n",
      "  File \"/opt/amazon/lib/python3.7/site-packages/sage_xgboost/train_methods.py\", line 17, in standalone_train\n",
      "    train_job(resource_config, train_config, data_config)\n",
      "  File \"/opt/amazon/lib/python3.7/site-packages/sage_xgboost/train_helper.py\", line 338, in train_job\n",
      "    dtrain = get_dmatrix(train_path, \"train, \", file_type, exceed_memory, csv_weights=csv_weights)\n",
      "  File \"/opt/amazon/lib/python3.7/site-packages/sage_xgboost/train_helper.py\", line 191, in get_dmatrix\n",
      "    dmatrix = get_csv_dmatrix(files_path, csv_weights)\n",
      "  File \"/opt/amazon/lib/python3.7/site-packages/sage_xgboost/train_helper.py\", line 137, in get_csv_dmatrix\n",
      "    raise CustomerError(\"Could not determine delimiter on line {}:\\n{}\".format(sample_text[:50], e))\u001b[0m\n",
      "\u001b[34msg_algorithms_sdk.base.exceptions.CustomerError: Could not determine delimiter on line :\u001b[0m\n",
      "\u001b[34mCould not determine delimiter\u001b[0m\n",
      "\u001b[34m[2023-06-01:11:59:02:INFO] Path /opt/ml/input/data/validation does not exist!\u001b[0m\n"
     ]
    },
    {
     "ename": "UnexpectedStatusException",
     "evalue": "Error for Training job xgboost-2023-06-01-11-56-15-151: Failed. Reason: ClientError: Could not determine delimiter on line :\nCould not determine delimiter, exit code: 1",
     "output_type": "error",
     "traceback": [
      "\u001b[0;31m---------------------------------------------------------------------------\u001b[0m",
      "\u001b[0;31mUnexpectedStatusException\u001b[0m                 Traceback (most recent call last)",
      "Cell \u001b[0;32mIn[44], line 1\u001b[0m\n\u001b[0;32m----> 1\u001b[0m \u001b[43mxgb\u001b[49m\u001b[38;5;241;43m.\u001b[39;49m\u001b[43mfit\u001b[49m\u001b[43m(\u001b[49m\u001b[43m{\u001b[49m\u001b[38;5;124;43m'\u001b[39;49m\u001b[38;5;124;43mtrain\u001b[39;49m\u001b[38;5;124;43m'\u001b[39;49m\u001b[43m:\u001b[49m\u001b[43m \u001b[49m\u001b[43ms3_input_train\u001b[49m\u001b[43m}\u001b[49m\u001b[43m)\u001b[49m\n",
      "File \u001b[0;32m~/anaconda3/envs/python3/lib/python3.10/site-packages/sagemaker/workflow/pipeline_context.py:284\u001b[0m, in \u001b[0;36mrunnable_by_pipeline.<locals>.wrapper\u001b[0;34m(*args, **kwargs)\u001b[0m\n\u001b[1;32m    280\u001b[0m         \u001b[38;5;28;01mreturn\u001b[39;00m context\n\u001b[1;32m    282\u001b[0m     \u001b[38;5;28;01mreturn\u001b[39;00m _StepArguments(retrieve_caller_name(self_instance), run_func, \u001b[38;5;241m*\u001b[39margs, \u001b[38;5;241m*\u001b[39m\u001b[38;5;241m*\u001b[39mkwargs)\n\u001b[0;32m--> 284\u001b[0m \u001b[38;5;28;01mreturn\u001b[39;00m \u001b[43mrun_func\u001b[49m\u001b[43m(\u001b[49m\u001b[38;5;241;43m*\u001b[39;49m\u001b[43margs\u001b[49m\u001b[43m,\u001b[49m\u001b[43m \u001b[49m\u001b[38;5;241;43m*\u001b[39;49m\u001b[38;5;241;43m*\u001b[39;49m\u001b[43mkwargs\u001b[49m\u001b[43m)\u001b[49m\n",
      "File \u001b[0;32m~/anaconda3/envs/python3/lib/python3.10/site-packages/sagemaker/estimator.py:1198\u001b[0m, in \u001b[0;36mEstimatorBase.fit\u001b[0;34m(self, inputs, wait, logs, job_name, experiment_config)\u001b[0m\n\u001b[1;32m   1196\u001b[0m \u001b[38;5;28mself\u001b[39m\u001b[38;5;241m.\u001b[39mjobs\u001b[38;5;241m.\u001b[39mappend(\u001b[38;5;28mself\u001b[39m\u001b[38;5;241m.\u001b[39mlatest_training_job)\n\u001b[1;32m   1197\u001b[0m \u001b[38;5;28;01mif\u001b[39;00m wait:\n\u001b[0;32m-> 1198\u001b[0m     \u001b[38;5;28;43mself\u001b[39;49m\u001b[38;5;241;43m.\u001b[39;49m\u001b[43mlatest_training_job\u001b[49m\u001b[38;5;241;43m.\u001b[39;49m\u001b[43mwait\u001b[49m\u001b[43m(\u001b[49m\u001b[43mlogs\u001b[49m\u001b[38;5;241;43m=\u001b[39;49m\u001b[43mlogs\u001b[49m\u001b[43m)\u001b[49m\n",
      "File \u001b[0;32m~/anaconda3/envs/python3/lib/python3.10/site-packages/sagemaker/estimator.py:2344\u001b[0m, in \u001b[0;36m_TrainingJob.wait\u001b[0;34m(self, logs)\u001b[0m\n\u001b[1;32m   2342\u001b[0m \u001b[38;5;66;03m# If logs are requested, call logs_for_jobs.\u001b[39;00m\n\u001b[1;32m   2343\u001b[0m \u001b[38;5;28;01mif\u001b[39;00m logs \u001b[38;5;241m!=\u001b[39m \u001b[38;5;124m\"\u001b[39m\u001b[38;5;124mNone\u001b[39m\u001b[38;5;124m\"\u001b[39m:\n\u001b[0;32m-> 2344\u001b[0m     \u001b[38;5;28;43mself\u001b[39;49m\u001b[38;5;241;43m.\u001b[39;49m\u001b[43msagemaker_session\u001b[49m\u001b[38;5;241;43m.\u001b[39;49m\u001b[43mlogs_for_job\u001b[49m\u001b[43m(\u001b[49m\u001b[38;5;28;43mself\u001b[39;49m\u001b[38;5;241;43m.\u001b[39;49m\u001b[43mjob_name\u001b[49m\u001b[43m,\u001b[49m\u001b[43m \u001b[49m\u001b[43mwait\u001b[49m\u001b[38;5;241;43m=\u001b[39;49m\u001b[38;5;28;43;01mTrue\u001b[39;49;00m\u001b[43m,\u001b[49m\u001b[43m \u001b[49m\u001b[43mlog_type\u001b[49m\u001b[38;5;241;43m=\u001b[39;49m\u001b[43mlogs\u001b[49m\u001b[43m)\u001b[49m\n\u001b[1;32m   2345\u001b[0m \u001b[38;5;28;01melse\u001b[39;00m:\n\u001b[1;32m   2346\u001b[0m     \u001b[38;5;28mself\u001b[39m\u001b[38;5;241m.\u001b[39msagemaker_session\u001b[38;5;241m.\u001b[39mwait_for_job(\u001b[38;5;28mself\u001b[39m\u001b[38;5;241m.\u001b[39mjob_name)\n",
      "File \u001b[0;32m~/anaconda3/envs/python3/lib/python3.10/site-packages/sagemaker/session.py:4628\u001b[0m, in \u001b[0;36mSession.logs_for_job\u001b[0;34m(self, job_name, wait, poll, log_type, timeout)\u001b[0m\n\u001b[1;32m   4607\u001b[0m \u001b[38;5;28;01mdef\u001b[39;00m \u001b[38;5;21mlogs_for_job\u001b[39m(\u001b[38;5;28mself\u001b[39m, job_name, wait\u001b[38;5;241m=\u001b[39m\u001b[38;5;28;01mFalse\u001b[39;00m, poll\u001b[38;5;241m=\u001b[39m\u001b[38;5;241m10\u001b[39m, log_type\u001b[38;5;241m=\u001b[39m\u001b[38;5;124m\"\u001b[39m\u001b[38;5;124mAll\u001b[39m\u001b[38;5;124m\"\u001b[39m, timeout\u001b[38;5;241m=\u001b[39m\u001b[38;5;28;01mNone\u001b[39;00m):\n\u001b[1;32m   4608\u001b[0m \u001b[38;5;250m    \u001b[39m\u001b[38;5;124;03m\"\"\"Display logs for a given training job, optionally tailing them until job is complete.\u001b[39;00m\n\u001b[1;32m   4609\u001b[0m \n\u001b[1;32m   4610\u001b[0m \u001b[38;5;124;03m    If the output is a tty or a Jupyter cell, it will be color-coded\u001b[39;00m\n\u001b[0;32m   (...)\u001b[0m\n\u001b[1;32m   4626\u001b[0m \u001b[38;5;124;03m        exceptions.UnexpectedStatusException: If waiting and the training job fails.\u001b[39;00m\n\u001b[1;32m   4627\u001b[0m \u001b[38;5;124;03m    \"\"\"\u001b[39;00m\n\u001b[0;32m-> 4628\u001b[0m     \u001b[43m_logs_for_job\u001b[49m\u001b[43m(\u001b[49m\u001b[38;5;28;43mself\u001b[39;49m\u001b[38;5;241;43m.\u001b[39;49m\u001b[43mboto_session\u001b[49m\u001b[43m,\u001b[49m\u001b[43m \u001b[49m\u001b[43mjob_name\u001b[49m\u001b[43m,\u001b[49m\u001b[43m \u001b[49m\u001b[43mwait\u001b[49m\u001b[43m,\u001b[49m\u001b[43m \u001b[49m\u001b[43mpoll\u001b[49m\u001b[43m,\u001b[49m\u001b[43m \u001b[49m\u001b[43mlog_type\u001b[49m\u001b[43m,\u001b[49m\u001b[43m \u001b[49m\u001b[43mtimeout\u001b[49m\u001b[43m)\u001b[49m\n",
      "File \u001b[0;32m~/anaconda3/envs/python3/lib/python3.10/site-packages/sagemaker/session.py:6490\u001b[0m, in \u001b[0;36m_logs_for_job\u001b[0;34m(boto_session, job_name, wait, poll, log_type, timeout)\u001b[0m\n\u001b[1;32m   6487\u001b[0m             last_profiler_rule_statuses \u001b[38;5;241m=\u001b[39m profiler_rule_statuses\n\u001b[1;32m   6489\u001b[0m \u001b[38;5;28;01mif\u001b[39;00m wait:\n\u001b[0;32m-> 6490\u001b[0m     \u001b[43m_check_job_status\u001b[49m\u001b[43m(\u001b[49m\u001b[43mjob_name\u001b[49m\u001b[43m,\u001b[49m\u001b[43m \u001b[49m\u001b[43mdescription\u001b[49m\u001b[43m,\u001b[49m\u001b[43m \u001b[49m\u001b[38;5;124;43m\"\u001b[39;49m\u001b[38;5;124;43mTrainingJobStatus\u001b[39;49m\u001b[38;5;124;43m\"\u001b[39;49m\u001b[43m)\u001b[49m\n\u001b[1;32m   6491\u001b[0m     \u001b[38;5;28;01mif\u001b[39;00m dot:\n\u001b[1;32m   6492\u001b[0m         \u001b[38;5;28mprint\u001b[39m()\n",
      "File \u001b[0;32m~/anaconda3/envs/python3/lib/python3.10/site-packages/sagemaker/session.py:6543\u001b[0m, in \u001b[0;36m_check_job_status\u001b[0;34m(job, desc, status_key_name)\u001b[0m\n\u001b[1;32m   6537\u001b[0m \u001b[38;5;28;01mif\u001b[39;00m \u001b[38;5;124m\"\u001b[39m\u001b[38;5;124mCapacityError\u001b[39m\u001b[38;5;124m\"\u001b[39m \u001b[38;5;129;01min\u001b[39;00m \u001b[38;5;28mstr\u001b[39m(reason):\n\u001b[1;32m   6538\u001b[0m     \u001b[38;5;28;01mraise\u001b[39;00m exceptions\u001b[38;5;241m.\u001b[39mCapacityError(\n\u001b[1;32m   6539\u001b[0m         message\u001b[38;5;241m=\u001b[39mmessage,\n\u001b[1;32m   6540\u001b[0m         allowed_statuses\u001b[38;5;241m=\u001b[39m[\u001b[38;5;124m\"\u001b[39m\u001b[38;5;124mCompleted\u001b[39m\u001b[38;5;124m\"\u001b[39m, \u001b[38;5;124m\"\u001b[39m\u001b[38;5;124mStopped\u001b[39m\u001b[38;5;124m\"\u001b[39m],\n\u001b[1;32m   6541\u001b[0m         actual_status\u001b[38;5;241m=\u001b[39mstatus,\n\u001b[1;32m   6542\u001b[0m     )\n\u001b[0;32m-> 6543\u001b[0m \u001b[38;5;28;01mraise\u001b[39;00m exceptions\u001b[38;5;241m.\u001b[39mUnexpectedStatusException(\n\u001b[1;32m   6544\u001b[0m     message\u001b[38;5;241m=\u001b[39mmessage,\n\u001b[1;32m   6545\u001b[0m     allowed_statuses\u001b[38;5;241m=\u001b[39m[\u001b[38;5;124m\"\u001b[39m\u001b[38;5;124mCompleted\u001b[39m\u001b[38;5;124m\"\u001b[39m, \u001b[38;5;124m\"\u001b[39m\u001b[38;5;124mStopped\u001b[39m\u001b[38;5;124m\"\u001b[39m],\n\u001b[1;32m   6546\u001b[0m     actual_status\u001b[38;5;241m=\u001b[39mstatus,\n\u001b[1;32m   6547\u001b[0m )\n",
      "\u001b[0;31mUnexpectedStatusException\u001b[0m: Error for Training job xgboost-2023-06-01-11-56-15-151: Failed. Reason: ClientError: Could not determine delimiter on line :\nCould not determine delimiter, exit code: 1"
     ]
    }
   ],
   "source": [
    "xgb.fit({'train': s3_input_train})"
   ]
  },
  {
   "cell_type": "code",
   "execution_count": null,
   "id": "05a47117",
   "metadata": {},
   "outputs": [],
   "source": []
  },
  {
   "cell_type": "code",
   "execution_count": null,
   "id": "8319668c",
   "metadata": {},
   "outputs": [],
   "source": []
  }
 ],
 "metadata": {
  "kernelspec": {
   "display_name": "conda_python3",
   "language": "python",
   "name": "conda_python3"
  },
  "language_info": {
   "codemirror_mode": {
    "name": "ipython",
    "version": 3
   },
   "file_extension": ".py",
   "mimetype": "text/x-python",
   "name": "python",
   "nbconvert_exporter": "python",
   "pygments_lexer": "ipython3",
   "version": "3.10.8"
  }
 },
 "nbformat": 4,
 "nbformat_minor": 5
}
